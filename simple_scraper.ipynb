{
 "cells": [
  {
   "cell_type": "code",
   "execution_count": 9,
   "metadata": {},
   "outputs": [],
   "source": [
    "from bs4 import BeautifulSoup\n",
    "from urllib.request import urlopen,Request\n",
    "import re\n",
    "from time import sleep\n",
    "import webbrowser\n",
    "# from selenium import webdriver\n",
    "import os\n",
    "\n",
    "headers = {'User-Agent': 'Mozilla/5.0'\n",
    "}\n",
    "\n",
    "def scrape(url):\n",
    "    req = Request(url, headers=headers) \n",
    "#     req.encoding = \"GBK\"   # sometimes needef for decoding Chinese characters\n",
    "    html = urlopen(req).read()\n",
    "\n",
    "    # print(html)\n",
    "    soup = BeautifulSoup(html, features='lxml')\n",
    "    # print(soup)\n",
    "\n",
    "    x = soup.find_all(name='a')\n",
    "#     print(x)\n",
    "\n",
    "    for link  in x:\n",
    "        if '北美' in link.get_text():\n",
    "#             print(link)\n",
    "            webbrowser.open(link['href'])\n",
    "#             command = 'open -na \"Google Chrome\" --args --incognito '+ url.split('/')[2]+link['href']\n",
    "#             os.system(command)\n",
    "\n",
    "            \n",
    "reg_url = \"https://dig.chouti.com/\"\n",
    "linker = \"all/hot/recent/\"\n",
    "page_start = 1\n",
    "page_end = 10\n",
    "\n",
    "# scrape(reg_url)\n",
    "for i in range(page_start, page_end):\n",
    "    sleep(1)\n",
    "    scrape(reg_url+linker+str(i))\n",
    "\n",
    "\n",
    "\n",
    "\n"
   ]
  },
  {
   "cell_type": "code",
   "execution_count": null,
   "metadata": {},
   "outputs": [],
   "source": []
  }
 ],
 "metadata": {
  "kernelspec": {
   "display_name": "Python 3",
   "language": "python",
   "name": "python3"
  },
  "language_info": {
   "codemirror_mode": {
    "name": "ipython",
    "version": 3
   },
   "file_extension": ".py",
   "mimetype": "text/x-python",
   "name": "python",
   "nbconvert_exporter": "python",
   "pygments_lexer": "ipython3",
   "version": "3.7.0"
  }
 },
 "nbformat": 4,
 "nbformat_minor": 2
}
